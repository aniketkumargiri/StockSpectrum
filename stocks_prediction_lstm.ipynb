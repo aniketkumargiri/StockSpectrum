{
 "cells": [
  {
   "cell_type": "markdown",
   "metadata": {},
   "source": [
    "![Preprocessing](images/preprocessing.png)"
   ]
  },
  {
   "cell_type": "markdown",
   "metadata": {},
   "source": [
    "### Dataset Loading"
   ]
  },
  {
   "cell_type": "code",
   "execution_count": 1,
   "metadata": {},
   "outputs": [],
   "source": [
    "import pandas as pd"
   ]
  },
  {
   "cell_type": "code",
   "execution_count": 2,
   "metadata": {},
   "outputs": [],
   "source": [
    "df = pd.read_csv(\"TATAELXSI.csv\")"
   ]
  },
  {
   "cell_type": "code",
   "execution_count": 3,
   "metadata": {},
   "outputs": [
    {
     "data": {
      "text/plain": [
       "Index(['Date', 'Symbol', 'Series', 'Prev Close', 'Open', 'High', 'Low', 'Last',\n",
       "       'Close', 'VWAP', 'Volume', 'Turnover', 'Trades', 'Deliverable Volume',\n",
       "       '%Deliverble'],\n",
       "      dtype='object')"
      ]
     },
     "execution_count": 3,
     "metadata": {},
     "output_type": "execute_result"
    }
   ],
   "source": [
    "df.columns"
   ]
  },
  {
   "cell_type": "code",
   "execution_count": 4,
   "metadata": {},
   "outputs": [
    {
     "data": {
      "text/plain": [
       "95250"
      ]
     },
     "execution_count": 4,
     "metadata": {},
     "output_type": "execute_result"
    }
   ],
   "source": [
    "df.size"
   ]
  },
  {
   "cell_type": "code",
   "execution_count": 5,
   "metadata": {},
   "outputs": [
    {
     "data": {
      "text/plain": [
       "(6350, 15)"
      ]
     },
     "execution_count": 5,
     "metadata": {},
     "output_type": "execute_result"
    }
   ],
   "source": [
    "df.shape"
   ]
  },
  {
   "cell_type": "code",
   "execution_count": 6,
   "metadata": {},
   "outputs": [
    {
     "data": {
      "text/html": [
       "<div>\n",
       "<style scoped>\n",
       "    .dataframe tbody tr th:only-of-type {\n",
       "        vertical-align: middle;\n",
       "    }\n",
       "\n",
       "    .dataframe tbody tr th {\n",
       "        vertical-align: top;\n",
       "    }\n",
       "\n",
       "    .dataframe thead th {\n",
       "        text-align: right;\n",
       "    }\n",
       "</style>\n",
       "<table border=\"1\" class=\"dataframe\">\n",
       "  <thead>\n",
       "    <tr style=\"text-align: right;\">\n",
       "      <th></th>\n",
       "      <th>Date</th>\n",
       "      <th>Symbol</th>\n",
       "      <th>Series</th>\n",
       "      <th>Prev Close</th>\n",
       "      <th>Open</th>\n",
       "      <th>High</th>\n",
       "      <th>Low</th>\n",
       "      <th>Last</th>\n",
       "      <th>Close</th>\n",
       "      <th>VWAP</th>\n",
       "      <th>Volume</th>\n",
       "      <th>Turnover</th>\n",
       "      <th>Trades</th>\n",
       "      <th>Deliverable Volume</th>\n",
       "      <th>%Deliverble</th>\n",
       "    </tr>\n",
       "  </thead>\n",
       "  <tbody>\n",
       "    <tr>\n",
       "      <th>1295</th>\n",
       "      <td>2001-03-09</td>\n",
       "      <td>TATAELXSI</td>\n",
       "      <td>EQ</td>\n",
       "      <td>90.70</td>\n",
       "      <td>89.15</td>\n",
       "      <td>89.15</td>\n",
       "      <td>76.30</td>\n",
       "      <td>80.00</td>\n",
       "      <td>80.05</td>\n",
       "      <td>80.40</td>\n",
       "      <td>547491</td>\n",
       "      <td>4.401909e+12</td>\n",
       "      <td>NaN</td>\n",
       "      <td>NaN</td>\n",
       "      <td>NaN</td>\n",
       "    </tr>\n",
       "    <tr>\n",
       "      <th>903</th>\n",
       "      <td>1999-08-18</td>\n",
       "      <td>TATAELXSI</td>\n",
       "      <td>EQ</td>\n",
       "      <td>97.35</td>\n",
       "      <td>105.10</td>\n",
       "      <td>105.15</td>\n",
       "      <td>104.90</td>\n",
       "      <td>105.15</td>\n",
       "      <td>105.15</td>\n",
       "      <td>105.15</td>\n",
       "      <td>64600</td>\n",
       "      <td>6.792520e+11</td>\n",
       "      <td>NaN</td>\n",
       "      <td>NaN</td>\n",
       "      <td>NaN</td>\n",
       "    </tr>\n",
       "    <tr>\n",
       "      <th>70</th>\n",
       "      <td>1996-04-15</td>\n",
       "      <td>TATAELXSI</td>\n",
       "      <td>EQ</td>\n",
       "      <td>21.55</td>\n",
       "      <td>21.50</td>\n",
       "      <td>21.90</td>\n",
       "      <td>21.15</td>\n",
       "      <td>NaN</td>\n",
       "      <td>21.20</td>\n",
       "      <td>21.31</td>\n",
       "      <td>2400</td>\n",
       "      <td>5.115500e+09</td>\n",
       "      <td>NaN</td>\n",
       "      <td>NaN</td>\n",
       "      <td>NaN</td>\n",
       "    </tr>\n",
       "    <tr>\n",
       "      <th>616</th>\n",
       "      <td>1998-07-01</td>\n",
       "      <td>TATAELXSI</td>\n",
       "      <td>EQ</td>\n",
       "      <td>34.20</td>\n",
       "      <td>35.90</td>\n",
       "      <td>35.90</td>\n",
       "      <td>32.00</td>\n",
       "      <td>33.70</td>\n",
       "      <td>33.85</td>\n",
       "      <td>33.37</td>\n",
       "      <td>52000</td>\n",
       "      <td>1.735005e+11</td>\n",
       "      <td>NaN</td>\n",
       "      <td>NaN</td>\n",
       "      <td>NaN</td>\n",
       "    </tr>\n",
       "    <tr>\n",
       "      <th>614</th>\n",
       "      <td>1998-06-29</td>\n",
       "      <td>TATAELXSI</td>\n",
       "      <td>EQ</td>\n",
       "      <td>34.00</td>\n",
       "      <td>33.00</td>\n",
       "      <td>34.30</td>\n",
       "      <td>32.50</td>\n",
       "      <td>34.30</td>\n",
       "      <td>34.30</td>\n",
       "      <td>34.01</td>\n",
       "      <td>26800</td>\n",
       "      <td>9.116000e+10</td>\n",
       "      <td>NaN</td>\n",
       "      <td>NaN</td>\n",
       "      <td>NaN</td>\n",
       "    </tr>\n",
       "  </tbody>\n",
       "</table>\n",
       "</div>"
      ],
      "text/plain": [
       "            Date     Symbol Series  Prev Close    Open    High     Low  \\\n",
       "1295  2001-03-09  TATAELXSI     EQ       90.70   89.15   89.15   76.30   \n",
       "903   1999-08-18  TATAELXSI     EQ       97.35  105.10  105.15  104.90   \n",
       "70    1996-04-15  TATAELXSI     EQ       21.55   21.50   21.90   21.15   \n",
       "616   1998-07-01  TATAELXSI     EQ       34.20   35.90   35.90   32.00   \n",
       "614   1998-06-29  TATAELXSI     EQ       34.00   33.00   34.30   32.50   \n",
       "\n",
       "        Last   Close    VWAP  Volume      Turnover  Trades  \\\n",
       "1295   80.00   80.05   80.40  547491  4.401909e+12     NaN   \n",
       "903   105.15  105.15  105.15   64600  6.792520e+11     NaN   \n",
       "70       NaN   21.20   21.31    2400  5.115500e+09     NaN   \n",
       "616    33.70   33.85   33.37   52000  1.735005e+11     NaN   \n",
       "614    34.30   34.30   34.01   26800  9.116000e+10     NaN   \n",
       "\n",
       "      Deliverable Volume  %Deliverble  \n",
       "1295                 NaN          NaN  \n",
       "903                  NaN          NaN  \n",
       "70                   NaN          NaN  \n",
       "616                  NaN          NaN  \n",
       "614                  NaN          NaN  "
      ]
     },
     "execution_count": 6,
     "metadata": {},
     "output_type": "execute_result"
    }
   ],
   "source": [
    "df.sample(5)"
   ]
  },
  {
   "cell_type": "code",
   "execution_count": 7,
   "metadata": {},
   "outputs": [
    {
     "data": {
      "text/html": [
       "<div>\n",
       "<style scoped>\n",
       "    .dataframe tbody tr th:only-of-type {\n",
       "        vertical-align: middle;\n",
       "    }\n",
       "\n",
       "    .dataframe tbody tr th {\n",
       "        vertical-align: top;\n",
       "    }\n",
       "\n",
       "    .dataframe thead th {\n",
       "        text-align: right;\n",
       "    }\n",
       "</style>\n",
       "<table border=\"1\" class=\"dataframe\">\n",
       "  <thead>\n",
       "    <tr style=\"text-align: right;\">\n",
       "      <th></th>\n",
       "      <th>Prev Close</th>\n",
       "      <th>Open</th>\n",
       "      <th>High</th>\n",
       "      <th>Low</th>\n",
       "      <th>Last</th>\n",
       "      <th>Close</th>\n",
       "      <th>VWAP</th>\n",
       "      <th>Volume</th>\n",
       "      <th>Turnover</th>\n",
       "      <th>Trades</th>\n",
       "      <th>Deliverable Volume</th>\n",
       "      <th>%Deliverble</th>\n",
       "    </tr>\n",
       "  </thead>\n",
       "  <tbody>\n",
       "    <tr>\n",
       "      <th>count</th>\n",
       "      <td>6350.000000</td>\n",
       "      <td>6350.000000</td>\n",
       "      <td>6350.000000</td>\n",
       "      <td>6350.000000</td>\n",
       "      <td>5802.000000</td>\n",
       "      <td>6350.000000</td>\n",
       "      <td>6350.000000</td>\n",
       "      <td>6.350000e+03</td>\n",
       "      <td>6.350000e+03</td>\n",
       "      <td>2501.000000</td>\n",
       "      <td>4.843000e+03</td>\n",
       "      <td>4843.000000</td>\n",
       "    </tr>\n",
       "    <tr>\n",
       "      <th>mean</th>\n",
       "      <td>478.421606</td>\n",
       "      <td>479.631701</td>\n",
       "      <td>489.313008</td>\n",
       "      <td>470.537520</td>\n",
       "      <td>522.499319</td>\n",
       "      <td>479.087717</td>\n",
       "      <td>480.476575</td>\n",
       "      <td>3.399589e+05</td>\n",
       "      <td>2.599541e+13</td>\n",
       "      <td>19139.763695</td>\n",
       "      <td>8.891948e+04</td>\n",
       "      <td>0.364045</td>\n",
       "    </tr>\n",
       "    <tr>\n",
       "      <th>std</th>\n",
       "      <td>628.651814</td>\n",
       "      <td>630.413236</td>\n",
       "      <td>642.552553</td>\n",
       "      <td>619.534417</td>\n",
       "      <td>643.352962</td>\n",
       "      <td>630.397547</td>\n",
       "      <td>631.753621</td>\n",
       "      <td>5.517473e+05</td>\n",
       "      <td>6.405415e+13</td>\n",
       "      <td>23143.701212</td>\n",
       "      <td>9.871371e+04</td>\n",
       "      <td>0.183766</td>\n",
       "    </tr>\n",
       "    <tr>\n",
       "      <th>min</th>\n",
       "      <td>0.000000</td>\n",
       "      <td>14.200000</td>\n",
       "      <td>14.200000</td>\n",
       "      <td>13.750000</td>\n",
       "      <td>26.200000</td>\n",
       "      <td>13.900000</td>\n",
       "      <td>13.970000</td>\n",
       "      <td>5.770000e+02</td>\n",
       "      <td>1.420000e+09</td>\n",
       "      <td>89.000000</td>\n",
       "      <td>5.760000e+02</td>\n",
       "      <td>0.054700</td>\n",
       "    </tr>\n",
       "    <tr>\n",
       "      <th>25%</th>\n",
       "      <td>94.000000</td>\n",
       "      <td>94.662500</td>\n",
       "      <td>96.700000</td>\n",
       "      <td>92.150000</td>\n",
       "      <td>115.500000</td>\n",
       "      <td>94.000000</td>\n",
       "      <td>94.542500</td>\n",
       "      <td>4.167575e+04</td>\n",
       "      <td>6.069436e+11</td>\n",
       "      <td>5131.000000</td>\n",
       "      <td>2.609550e+04</td>\n",
       "      <td>0.213950</td>\n",
       "    </tr>\n",
       "    <tr>\n",
       "      <th>50%</th>\n",
       "      <td>203.900000</td>\n",
       "      <td>204.925000</td>\n",
       "      <td>208.525000</td>\n",
       "      <td>200.250000</td>\n",
       "      <td>218.000000</td>\n",
       "      <td>203.900000</td>\n",
       "      <td>204.535000</td>\n",
       "      <td>1.611925e+05</td>\n",
       "      <td>2.515265e+12</td>\n",
       "      <td>14267.000000</td>\n",
       "      <td>6.082600e+04</td>\n",
       "      <td>0.329800</td>\n",
       "    </tr>\n",
       "    <tr>\n",
       "      <th>75%</th>\n",
       "      <td>631.300000</td>\n",
       "      <td>631.887500</td>\n",
       "      <td>644.900000</td>\n",
       "      <td>619.000000</td>\n",
       "      <td>806.250000</td>\n",
       "      <td>631.487500</td>\n",
       "      <td>632.300000</td>\n",
       "      <td>4.310442e+05</td>\n",
       "      <td>2.737311e+13</td>\n",
       "      <td>24842.000000</td>\n",
       "      <td>1.165655e+05</td>\n",
       "      <td>0.487600</td>\n",
       "    </tr>\n",
       "    <tr>\n",
       "      <th>max</th>\n",
       "      <td>4304.300000</td>\n",
       "      <td>4375.300000</td>\n",
       "      <td>4410.000000</td>\n",
       "      <td>4165.000000</td>\n",
       "      <td>4350.000000</td>\n",
       "      <td>4304.300000</td>\n",
       "      <td>4248.370000</td>\n",
       "      <td>9.825204e+06</td>\n",
       "      <td>1.768214e+15</td>\n",
       "      <td>387872.000000</td>\n",
       "      <td>1.808203e+06</td>\n",
       "      <td>0.998300</td>\n",
       "    </tr>\n",
       "  </tbody>\n",
       "</table>\n",
       "</div>"
      ],
      "text/plain": [
       "        Prev Close         Open         High          Low         Last  \\\n",
       "count  6350.000000  6350.000000  6350.000000  6350.000000  5802.000000   \n",
       "mean    478.421606   479.631701   489.313008   470.537520   522.499319   \n",
       "std     628.651814   630.413236   642.552553   619.534417   643.352962   \n",
       "min       0.000000    14.200000    14.200000    13.750000    26.200000   \n",
       "25%      94.000000    94.662500    96.700000    92.150000   115.500000   \n",
       "50%     203.900000   204.925000   208.525000   200.250000   218.000000   \n",
       "75%     631.300000   631.887500   644.900000   619.000000   806.250000   \n",
       "max    4304.300000  4375.300000  4410.000000  4165.000000  4350.000000   \n",
       "\n",
       "             Close         VWAP        Volume      Turnover         Trades  \\\n",
       "count  6350.000000  6350.000000  6.350000e+03  6.350000e+03    2501.000000   \n",
       "mean    479.087717   480.476575  3.399589e+05  2.599541e+13   19139.763695   \n",
       "std     630.397547   631.753621  5.517473e+05  6.405415e+13   23143.701212   \n",
       "min      13.900000    13.970000  5.770000e+02  1.420000e+09      89.000000   \n",
       "25%      94.000000    94.542500  4.167575e+04  6.069436e+11    5131.000000   \n",
       "50%     203.900000   204.535000  1.611925e+05  2.515265e+12   14267.000000   \n",
       "75%     631.487500   632.300000  4.310442e+05  2.737311e+13   24842.000000   \n",
       "max    4304.300000  4248.370000  9.825204e+06  1.768214e+15  387872.000000   \n",
       "\n",
       "       Deliverable Volume  %Deliverble  \n",
       "count        4.843000e+03  4843.000000  \n",
       "mean         8.891948e+04     0.364045  \n",
       "std          9.871371e+04     0.183766  \n",
       "min          5.760000e+02     0.054700  \n",
       "25%          2.609550e+04     0.213950  \n",
       "50%          6.082600e+04     0.329800  \n",
       "75%          1.165655e+05     0.487600  \n",
       "max          1.808203e+06     0.998300  "
      ]
     },
     "execution_count": 7,
     "metadata": {},
     "output_type": "execute_result"
    }
   ],
   "source": [
    "df.describe()"
   ]
  },
  {
   "cell_type": "code",
   "execution_count": 8,
   "metadata": {},
   "outputs": [],
   "source": [
    "import matplotlib.pyplot as plt"
   ]
  },
  {
   "cell_type": "code",
   "execution_count": 9,
   "metadata": {},
   "outputs": [
    {
     "data": {
      "image/png": "[encoded data removed]",
      "text/plain": [
       "<Figure size 1200x600 with 1 Axes>"
      ]
     },
     "metadata": {},
     "output_type": "display_data"
    }
   ],
   "source": [
    "df[\"Date\"] = pd.to_datetime(df.Date, format=\"%Y-%m-%d\")\n",
    "df.index = df[\"Date\"]\n",
    "plt.figure(figsize=(12, 6))\n",
    "plt.plot(df[\"Close\"], label=\"Close Price\", color=\"yellowgreen\")\n",
    "plt.title(\"Closing Price over time\")\n",
    "plt.show()"
   ]
  },
  {
   "cell_type": "markdown",
   "metadata": {},
   "source": [
    "### Feature Building"
   ]
  },
  {
   "cell_type": "code",
   "execution_count": 10,
   "metadata": {},
   "outputs": [],
   "source": [
    "# keeping only 2 features Date & Close (Closing Price) for prediction\n",
    "df = df[[\"Date\", \"Close\"]]"
   ]
  },
  {
   "cell_type": "code",
   "execution_count": 11,
   "metadata": {},
   "outputs": [
    {
     "data": {
      "text/plain": [
       "Date     0\n",
       "Close    0\n",
       "dtype: int64"
      ]
     },
     "execution_count": 11,
     "metadata": {},
     "output_type": "execute_result"
    }
   ],
   "source": [
    "# dropping null\n",
    "df.isnull().sum()"
   ]
  },
  {
   "cell_type": "code",
   "execution_count": 12,
   "metadata": {},
   "outputs": [
    {
     "data": {
      "text/plain": [
       "Index(['Date', 'Close'], dtype='object')"
      ]
     },
     "execution_count": 12,
     "metadata": {},
     "output_type": "execute_result"
    }
   ],
   "source": [
    "df.columns"
   ]
  },
  {
   "cell_type": "code",
   "execution_count": 13,
   "metadata": {},
   "outputs": [],
   "source": [
    "# setting Date as index for the Dataframe\n",
    "df.index = df.Date"
   ]
  },
  {
   "cell_type": "code",
   "execution_count": 14,
   "metadata": {},
   "outputs": [
    {
     "data": {
      "text/html": [
       "<div>\n",
       "<style scoped>\n",
       "    .dataframe tbody tr th:only-of-type {\n",
       "        vertical-align: middle;\n",
       "    }\n",
       "\n",
       "    .dataframe tbody tr th {\n",
       "        vertical-align: top;\n",
       "    }\n",
       "\n",
       "    .dataframe thead th {\n",
       "        text-align: right;\n",
       "    }\n",
       "</style>\n",
       "<table border=\"1\" class=\"dataframe\">\n",
       "  <thead>\n",
       "    <tr style=\"text-align: right;\">\n",
       "      <th></th>\n",
       "      <th>Date</th>\n",
       "      <th>Close</th>\n",
       "    </tr>\n",
       "    <tr>\n",
       "      <th>Date</th>\n",
       "      <th></th>\n",
       "      <th></th>\n",
       "    </tr>\n",
       "  </thead>\n",
       "  <tbody>\n",
       "    <tr>\n",
       "      <th>1996-01-01</th>\n",
       "      <td>1996-01-01</td>\n",
       "      <td>25.95</td>\n",
       "    </tr>\n",
       "    <tr>\n",
       "      <th>1996-01-02</th>\n",
       "      <td>1996-01-02</td>\n",
       "      <td>24.95</td>\n",
       "    </tr>\n",
       "    <tr>\n",
       "      <th>1996-01-03</th>\n",
       "      <td>1996-01-03</td>\n",
       "      <td>24.95</td>\n",
       "    </tr>\n",
       "    <tr>\n",
       "      <th>1996-01-04</th>\n",
       "      <td>1996-01-04</td>\n",
       "      <td>24.10</td>\n",
       "    </tr>\n",
       "    <tr>\n",
       "      <th>1996-01-05</th>\n",
       "      <td>1996-01-05</td>\n",
       "      <td>24.25</td>\n",
       "    </tr>\n",
       "  </tbody>\n",
       "</table>\n",
       "</div>"
      ],
      "text/plain": [
       "                 Date  Close\n",
       "Date                        \n",
       "1996-01-01 1996-01-01  25.95\n",
       "1996-01-02 1996-01-02  24.95\n",
       "1996-01-03 1996-01-03  24.95\n",
       "1996-01-04 1996-01-04  24.10\n",
       "1996-01-05 1996-01-05  24.25"
      ]
     },
     "execution_count": 14,
     "metadata": {},
     "output_type": "execute_result"
    }
   ],
   "source": [
    "df.head()"
   ]
  },
  {
   "cell_type": "code",
   "execution_count": 15,
   "metadata": {},
   "outputs": [],
   "source": [
    "# dropping the Date column after setting it as index\n",
    "df.drop('Date', axis=1, inplace=True)"
   ]
  },
  {
   "cell_type": "code",
   "execution_count": 16,
   "metadata": {},
   "outputs": [
    {
     "name": "stdout",
     "output_type": "stream",
     "text": [
      "<class 'pandas.core.frame.DataFrame'>\n",
      "DatetimeIndex: 6350 entries, 1996-01-01 to 2021-07-01\n",
      "Data columns (total 1 columns):\n",
      " #   Column  Non-Null Count  Dtype  \n",
      "---  ------  --------------  -----  \n",
      " 0   Close   6350 non-null   float64\n",
      "dtypes: float64(1)\n",
      "memory usage: 99.2 KB\n"
     ]
    }
   ],
   "source": [
    "df.info()"
   ]
  },
  {
   "cell_type": "markdown",
   "metadata": {},
   "source": [
    "#### Training & Validation Data Preparation"
   ]
  },
  {
   "cell_type": "code",
   "execution_count": 17,
   "metadata": {},
   "outputs": [],
   "source": [
    "data = df.values"
   ]
  },
  {
   "cell_type": "code",
   "execution_count": 18,
   "metadata": {},
   "outputs": [
    {
     "data": {
      "text/plain": [
       "array([[  25.95],\n",
       "       [  24.95],\n",
       "       [  24.95],\n",
       "       ...,\n",
       "       [4002.95],\n",
       "       [4304.3 ],\n",
       "       [4243.75]])"
      ]
     },
     "execution_count": 18,
     "metadata": {},
     "output_type": "execute_result"
    }
   ],
   "source": [
    "data"
   ]
  },
  {
   "cell_type": "code",
   "execution_count": 19,
   "metadata": {},
   "outputs": [],
   "source": [
    "# Splitting the dataset into training and validation sets\n",
    "training_index = 0\n",
    "validation_index = int(len(data) * 0.8)\n",
    "\n",
    "training_data = data[training_index:validation_index,:]\n",
    "validation_data = data[validation_index:,:]"
   ]
  },
  {
   "cell_type": "code",
   "execution_count": 21,
   "metadata": {},
   "outputs": [],
   "source": [
    "actual = data[validation_index:,:]"
   ]
  },
  {
   "cell_type": "code",
   "execution_count": 22,
   "metadata": {},
   "outputs": [
    {
     "data": {
      "text/plain": [
       "array([[  25.95],\n",
       "       [  24.95],\n",
       "       [  24.95],\n",
       "       ...,\n",
       "       [1904.15],\n",
       "       [1899.8 ],\n",
       "       [1923.85]])"
      ]
     },
     "execution_count": 22,
     "metadata": {},
     "output_type": "execute_result"
    }
   ],
   "source": [
    "training_data"
   ]
  },
  {
   "cell_type": "code",
   "execution_count": 23,
   "metadata": {},
   "outputs": [
    {
     "data": {
      "text/plain": [
       "array([[1919.7 ],\n",
       "       [1875.05],\n",
       "       [1844.95],\n",
       "       ...,\n",
       "       [4002.95],\n",
       "       [4304.3 ],\n",
       "       [4243.75]])"
      ]
     },
     "execution_count": 23,
     "metadata": {},
     "output_type": "execute_result"
    }
   ],
   "source": [
    "validation_data"
   ]
  },
  {
   "cell_type": "code",
   "execution_count": 24,
   "metadata": {},
   "outputs": [
    {
     "data": {
      "text/plain": [
       "((5080, 1), (1270, 1))"
      ]
     },
     "execution_count": 24,
     "metadata": {},
     "output_type": "execute_result"
    }
   ],
   "source": [
    "training_data.shape, validation_data.shape"
   ]
  },
  {
   "cell_type": "code",
   "execution_count": 25,
   "metadata": {},
   "outputs": [],
   "source": [
    "from sklearn.preprocessing import MinMaxScaler"
   ]
  },
  {
   "cell_type": "code",
   "execution_count": 26,
   "metadata": {},
   "outputs": [],
   "source": [
    "scaler = MinMaxScaler(feature_range=(0, 1))"
   ]
  },
  {
   "cell_type": "code",
   "execution_count": 27,
   "metadata": {},
   "outputs": [
    {
     "data": {
      "text/html": [
       "<style>#sk-container-id-1 {color: black;}#sk-container-id-1 pre{padding: 0;}#sk-container-id-1 div.sk-toggleable {background-color: white;}#sk-container-id-1 label.sk-toggleable__label {cursor: pointer;display: block;width: 100%;margin-bottom: 0;padding: 0.3em;box-sizing: border-box;text-align: center;}#sk-container-id-1 label.sk-toggleable__label-arrow:before {content: \"▸\";float: left;margin-right: 0.25em;color: #696969;}#sk-container-id-1 label.sk-toggleable__label-arrow:hover:before {color: black;}#sk-container-id-1 div.sk-estimator:hover label.sk-toggleable__label-arrow:before {color: black;}#sk-container-id-1 div.sk-toggleable__content {max-height: 0;max-width: 0;overflow: hidden;text-align: left;background-color: #f0f8ff;}#sk-container-id-1 div.sk-toggleable__content pre {margin: 0.2em;color: black;border-radius: 0.25em;background-color: #f0f8ff;}#sk-container-id-1 input.sk-toggleable__control:checked~div.sk-toggleable__content {max-height: 200px;max-width: 100%;overflow: auto;}#sk-container-id-1 input.sk-toggleable__control:checked~label.sk-toggleable__label-arrow:before {content: \"▾\";}#sk-container-id-1 div.sk-estimator input.sk-toggleable__control:checked~label.sk-toggleable__label {background-color: #d4ebff;}#sk-container-id-1 div.sk-label input.sk-toggleable__control:checked~label.sk-toggleable__label {background-color: #d4ebff;}#sk-container-id-1 input.sk-hidden--visually {border: 0;clip: rect(1px 1px 1px 1px);clip: rect(1px, 1px, 1px, 1px);height: 1px;margin: -1px;overflow: hidden;padding: 0;position: absolute;width: 1px;}#sk-container-id-1 div.sk-estimator {font-family: monospace;background-color: #f0f8ff;border: 1px dotted black;border-radius: 0.25em;box-sizing: border-box;margin-bottom: 0.5em;}#sk-container-id-1 div.sk-estimator:hover {background-color: #d4ebff;}#sk-container-id-1 div.sk-parallel-item::after {content: \"\";width: 100%;border-bottom: 1px solid gray;flex-grow: 1;}#sk-container-id-1 div.sk-label:hover label.sk-toggleable__label {background-color: #d4ebff;}#sk-container-id-1 div.sk-serial::before {content: \"\";position: absolute;border-left: 1px solid gray;box-sizing: border-box;top: 0;bottom: 0;left: 50%;z-index: 0;}#sk-container-id-1 div.sk-serial {display: flex;flex-direction: column;align-items: center;background-color: white;padding-right: 0.2em;padding-left: 0.2em;position: relative;}#sk-container-id-1 div.sk-item {position: relative;z-index: 1;}#sk-container-id-1 div.sk-parallel {display: flex;align-items: stretch;justify-content: center;background-color: white;position: relative;}#sk-container-id-1 div.sk-item::before, #sk-container-id-1 div.sk-parallel-item::before {content: \"\";position: absolute;border-left: 1px solid gray;box-sizing: border-box;top: 0;bottom: 0;left: 50%;z-index: -1;}#sk-container-id-1 div.sk-parallel-item {display: flex;flex-direction: column;z-index: 1;position: relative;background-color: white;}#sk-container-id-1 div.sk-parallel-item:first-child::after {align-self: flex-end;width: 50%;}#sk-container-id-1 div.sk-parallel-item:last-child::after {align-self: flex-start;width: 50%;}#sk-container-id-1 div.sk-parallel-item:only-child::after {width: 0;}#sk-container-id-1 div.sk-dashed-wrapped {border: 1px dashed gray;margin: 0 0.4em 0.5em 0.4em;box-sizing: border-box;padding-bottom: 0.4em;background-color: white;}#sk-container-id-1 div.sk-label label {font-family: monospace;font-weight: bold;display: inline-block;line-height: 1.2em;}#sk-container-id-1 div.sk-label-container {text-align: center;}#sk-container-id-1 div.sk-container {/* jupyter's `normalize.less` sets `[hidden] { display: none; }` but bootstrap.min.css set `[hidden] { display: none !important; }` so we also need the `!important` here to be able to override the default hidden behavior on the sphinx rendered scikit-learn.org. See: https://github.com/scikit-learn/scikit-learn/issues/21755 */display: inline-block !important;position: relative;}#sk-container-id-1 div.sk-text-repr-fallback {display: none;}</style><div id=\"sk-container-id-1\" class=\"sk-top-container\"><div class=\"sk-text-repr-fallback\"><pre>MinMaxScaler()</pre><b>In a Jupyter environment, please rerun this cell to show the HTML representation or trust the notebook. <br />On GitHub, the HTML representation is unable to render, please try loading this page with nbviewer.org.</b></div><div class=\"sk-container\" hidden><div class=\"sk-item\"><div class=\"sk-estimator sk-toggleable\"><input class=\"sk-toggleable__control sk-hidden--visually\" id=\"sk-estimator-id-1\" type=\"checkbox\" checked><label for=\"sk-estimator-id-1\" class=\"sk-toggleable__label sk-toggleable__label-arrow\">MinMaxScaler</label><div class=\"sk-toggleable__content\"><pre>MinMaxScaler()</pre></div></div></div></div></div>"
      ],
      "text/plain": [
       "MinMaxScaler()"
      ]
     },
     "execution_count": 27,
     "metadata": {},
     "output_type": "execute_result"
    }
   ],
   "source": [
    "scaler"
   ]
  },
  {
   "cell_type": "code",
   "execution_count": 28,
   "metadata": {},
   "outputs": [],
   "source": [
    "scaled_data = scaler.fit_transform(data)"
   ]
  },
  {
   "cell_type": "code",
   "execution_count": 29,
   "metadata": {},
   "outputs": [
    {
     "data": {
      "text/plain": [
       "array([[0.0028086 ],\n",
       "       [0.00257552],\n",
       "       [0.00257552],\n",
       "       ...,\n",
       "       [0.92976179],\n",
       "       [1.        ],\n",
       "       [0.9858871 ]])"
      ]
     },
     "execution_count": 29,
     "metadata": {},
     "output_type": "execute_result"
    }
   ],
   "source": [
    "scaled_data"
   ]
  },
  {
   "cell_type": "code",
   "execution_count": 30,
   "metadata": {},
   "outputs": [],
   "source": [
    "import numpy as np"
   ]
  },
  {
   "cell_type": "code",
   "execution_count": 31,
   "metadata": {},
   "outputs": [],
   "source": [
    "x_train = []\n",
    "y_train = []\n",
    "time_steps = 180\n",
    "size_train = len(training_data)\n",
    "\n",
    "for i in range(time_steps, size_train):\n",
    "    x_train.append(scaled_data[i - time_steps : i, 0])\n",
    "    y_train.append(scaled_data[i, 0])\n",
    "\n",
    "x_train, y_train = np.array(x_train), np.array(y_train)"
   ]
  },
  {
   "cell_type": "code",
   "execution_count": 32,
   "metadata": {},
   "outputs": [
    {
     "data": {
      "text/plain": [
       "array([[0.0028086 , 0.00257552, 0.00257552, ..., 0.00122366, 0.00124697,\n",
       "        0.0011887 ],\n",
       "       [0.00257552, 0.00257552, 0.0023774 , ..., 0.00124697, 0.0011887 ,\n",
       "        0.00123532],\n",
       "       [0.00257552, 0.0023774 , 0.00241236, ..., 0.0011887 , 0.00123532,\n",
       "        0.00129359],\n",
       "       ...,\n",
       "       [0.41261887, 0.49434785, 0.50818106, ..., 0.43262866, 0.43025126,\n",
       "        0.44089129],\n",
       "       [0.49434785, 0.50818106, 0.48605025, ..., 0.43025126, 0.44089129,\n",
       "        0.44057664],\n",
       "       [0.50818106, 0.48605025, 0.4767038 , ..., 0.44089129, 0.44057664,\n",
       "        0.43956274]])"
      ]
     },
     "execution_count": 32,
     "metadata": {},
     "output_type": "execute_result"
    }
   ],
   "source": [
    "x_train"
   ]
  },
  {
   "cell_type": "code",
   "execution_count": 33,
   "metadata": {},
   "outputs": [],
   "source": [
    "# Reshaping input data: [samples, time steps, features] for LSTM\n",
    "x_train = np.reshape(x_train, (x_train.shape[0], x_train.shape[1], 1))"
   ]
  },
  {
   "cell_type": "code",
   "execution_count": 34,
   "metadata": {},
   "outputs": [
    {
     "data": {
      "text/plain": [
       "array([[[0.0028086 ],\n",
       "        [0.00257552],\n",
       "        [0.00257552],\n",
       "        ...,\n",
       "        [0.00122366],\n",
       "        [0.00124697],\n",
       "        [0.0011887 ]],\n",
       "\n",
       "       [[0.00257552],\n",
       "        [0.00257552],\n",
       "        [0.0023774 ],\n",
       "        ...,\n",
       "        [0.00124697],\n",
       "        [0.0011887 ],\n",
       "        [0.00123532]],\n",
       "\n",
       "       [[0.00257552],\n",
       "        [0.0023774 ],\n",
       "        [0.00241236],\n",
       "        ...,\n",
       "        [0.0011887 ],\n",
       "        [0.00123532],\n",
       "        [0.00129359]],\n",
       "\n",
       "       ...,\n",
       "\n",
       "       [[0.41261887],\n",
       "        [0.49434785],\n",
       "        [0.50818106],\n",
       "        ...,\n",
       "        [0.43262866],\n",
       "        [0.43025126],\n",
       "        [0.44089129]],\n",
       "\n",
       "       [[0.49434785],\n",
       "        [0.50818106],\n",
       "        [0.48605025],\n",
       "        ...,\n",
       "        [0.43025126],\n",
       "        [0.44089129],\n",
       "        [0.44057664]],\n",
       "\n",
       "       [[0.50818106],\n",
       "        [0.48605025],\n",
       "        [0.4767038 ],\n",
       "        ...,\n",
       "        [0.44089129],\n",
       "        [0.44057664],\n",
       "        [0.43956274]]])"
      ]
     },
     "execution_count": 34,
     "metadata": {},
     "output_type": "execute_result"
    }
   ],
   "source": [
    "x_train"
   ]
  },
  {
   "cell_type": "code",
   "execution_count": 35,
   "metadata": {},
   "outputs": [
    {
     "data": {
      "text/plain": [
       "array([0.00123532, 0.00129359, 0.00108382, ..., 0.44057664, 0.43956274,\n",
       "       0.44516828])"
      ]
     },
     "execution_count": 35,
     "metadata": {},
     "output_type": "execute_result"
    }
   ],
   "source": [
    "y_train"
   ]
  },
  {
   "cell_type": "code",
   "execution_count": 36,
   "metadata": {},
   "outputs": [],
   "source": [
    "dataset_size = len(df)\n",
    "test_size = len(validation_data)\n",
    "test_inputs = df[dataset_size - test_size - time_steps :].values"
   ]
  },
  {
   "cell_type": "code",
   "execution_count": 37,
   "metadata": {},
   "outputs": [],
   "source": [
    "test_inputs = test_inputs.reshape(-1, 1)"
   ]
  },
  {
   "cell_type": "code",
   "execution_count": 38,
   "metadata": {},
   "outputs": [
    {
     "data": {
      "text/plain": [
       "array([[2099.25],\n",
       "       [2059.15],\n",
       "       [1691.8 ],\n",
       "       ...,\n",
       "       [4002.95],\n",
       "       [4304.3 ],\n",
       "       [4243.75]])"
      ]
     },
     "execution_count": 38,
     "metadata": {},
     "output_type": "execute_result"
    }
   ],
   "source": [
    "test_inputs"
   ]
  },
  {
   "cell_type": "code",
   "execution_count": 39,
   "metadata": {},
   "outputs": [],
   "source": [
    "test_inputs = scaler.transform(test_inputs)"
   ]
  },
  {
   "cell_type": "code",
   "execution_count": 40,
   "metadata": {},
   "outputs": [
    {
     "data": {
      "text/plain": [
       "(1450, 1)"
      ]
     },
     "execution_count": 40,
     "metadata": {},
     "output_type": "execute_result"
    }
   ],
   "source": [
    "test_inputs.shape"
   ]
  },
  {
   "cell_type": "code",
   "execution_count": 41,
   "metadata": {},
   "outputs": [],
   "source": [
    "x_test = []\n",
    "y_test = []\n",
    "len_test = test_inputs.shape[0]\n",
    "\n",
    "for i in range(time_steps, len_test):\n",
    "    x_test.append(test_inputs[i - time_steps : i, 0])\n",
    "    y_test.append(scaled_data[i, 0])\n",
    "\n",
    "x_test, y_test = np.array(x_test), np.array(y_test)"
   ]
  },
  {
   "cell_type": "code",
   "execution_count": 42,
   "metadata": {},
   "outputs": [
    {
     "data": {
      "text/plain": [
       "array([[0.48605025, 0.4767038 , 0.39108242, ..., 0.44057664, 0.43956274,\n",
       "        0.44516828],\n",
       "       [0.4767038 , 0.39108242, 0.4082603 , ..., 0.43956274, 0.44516828,\n",
       "        0.44420101],\n",
       "       [0.39108242, 0.4082603 , 0.41412223, ..., 0.44516828, 0.44420101,\n",
       "        0.43379405],\n",
       "       ...,\n",
       "       [0.31866493, 0.32340807, 0.32168329, ..., 0.86850876, 0.8751515 ,\n",
       "        0.88856517],\n",
       "       [0.32340807, 0.32168329, 0.34067919, ..., 0.8751515 , 0.88856517,\n",
       "        0.92976179],\n",
       "       [0.32168329, 0.34067919, 0.33663528, ..., 0.88856517, 0.92976179,\n",
       "        1.        ]])"
      ]
     },
     "execution_count": 42,
     "metadata": {},
     "output_type": "execute_result"
    }
   ],
   "source": [
    "x_test"
   ]
  },
  {
   "cell_type": "code",
   "execution_count": 43,
   "metadata": {},
   "outputs": [
    {
     "data": {
      "text/plain": [
       "array([0.00123532, 0.00129359, 0.00108382, ..., 0.00645627, 0.0062465 ,\n",
       "       0.00646793])"
      ]
     },
     "execution_count": 43,
     "metadata": {},
     "output_type": "execute_result"
    }
   ],
   "source": [
    "y_test"
   ]
  },
  {
   "cell_type": "markdown",
   "metadata": {},
   "source": [
    "![Model Training](images/training.png)"
   ]
  },
  {
   "cell_type": "code",
   "execution_count": 44,
   "metadata": {},
   "outputs": [
    {
     "name": "stdout",
     "output_type": "stream",
     "text": [
      "WARNING:tensorflow:From c:\\Users\\anike\\AppData\\Local\\Programs\\Python\\Python311\\Lib\\site-packages\\keras\\src\\losses.py:2976: The name tf.losses.sparse_softmax_cross_entropy is deprecated. Please use tf.compat.v1.losses.sparse_softmax_cross_entropy instead.\n",
      "\n"
     ]
    }
   ],
   "source": [
    "from tensorflow.keras.models import Sequential"
   ]
  },
  {
   "cell_type": "code",
   "execution_count": 45,
   "metadata": {},
   "outputs": [
    {
     "name": "stdout",
     "output_type": "stream",
     "text": [
      "WARNING:tensorflow:From c:\\Users\\anike\\AppData\\Local\\Programs\\Python\\Python311\\Lib\\site-packages\\keras\\src\\backend.py:873: The name tf.get_default_graph is deprecated. Please use tf.compat.v1.get_default_graph instead.\n",
      "\n"
     ]
    }
   ],
   "source": [
    "model = Sequential()"
   ]
  },
  {
   "cell_type": "code",
   "execution_count": 46,
   "metadata": {},
   "outputs": [],
   "source": [
    "from tensorflow.keras.layers import LSTM, Dense"
   ]
  },
  {
   "cell_type": "code",
   "execution_count": 47,
   "metadata": {},
   "outputs": [],
   "source": [
    "from keras.layers import Dropout"
   ]
  },
  {
   "cell_type": "code",
   "execution_count": 48,
   "metadata": {},
   "outputs": [],
   "source": [
    "# Model Architecture\n",
    "model.add(LSTM(units=50, return_sequences=True, input_shape=(time_steps, 1)))\n",
    "model.add(Dropout(rate=0.3))\n",
    "\n",
    "model.add(LSTM(units=50, return_sequences=True))\n",
    "model.add(Dropout(rate=0.3))\n",
    "\n",
    "model.add(LSTM(units=50, return_sequences=True))\n",
    "model.add(Dropout(rate=0.3))\n",
    "\n",
    "model.add(LSTM(units=50, return_sequences=False))\n",
    "model.add(Dropout(rate=0.3))\n",
    "model.add(Dense(1))"
   ]
  },
  {
   "cell_type": "code",
   "execution_count": 49,
   "metadata": {},
   "outputs": [
    {
     "name": "stdout",
     "output_type": "stream",
     "text": [
      "Model: \"sequential\"\n",
      "_________________________________________________________________\n",
      " Layer (type)                Output Shape              Param #   \n",
      "=================================================================\n",
      " lstm (LSTM)                 (None, 180, 50)           10400     \n",
      "                                                                 \n",
      " dropout (Dropout)           (None, 180, 50)           0         \n",
      "                                                                 \n",
      " lstm_1 (LSTM)               (None, 180, 50)           20200     \n",
      "                                                                 \n",
      " dropout_1 (Dropout)         (None, 180, 50)           0         \n",
      "                                                                 \n",
      " lstm_2 (LSTM)               (None, 180, 50)           20200     \n",
      "                                                                 \n",
      " dropout_2 (Dropout)         (None, 180, 50)           0         \n",
      "                                                                 \n",
      " lstm_3 (LSTM)               (None, 50)                20200     \n",
      "                                                                 \n",
      " dropout_3 (Dropout)         (None, 50)                0         \n",
      "                                                                 \n",
      " dense (Dense)               (None, 1)                 51        \n",
      "                                                                 \n",
      "=================================================================\n",
      "Total params: 71051 (277.54 KB)\n",
      "Trainable params: 71051 (277.54 KB)\n",
      "Non-trainable params: 0 (0.00 Byte)\n",
      "_________________________________________________________________\n"
     ]
    }
   ],
   "source": [
    "# Model Summary\n",
    "model.summary()"
   ]
  },
  {
   "cell_type": "code",
   "execution_count": 50,
   "metadata": {},
   "outputs": [
    {
     "name": "stdout",
     "output_type": "stream",
     "text": [
      "WARNING:tensorflow:From c:\\Users\\anike\\AppData\\Local\\Programs\\Python\\Python311\\Lib\\site-packages\\keras\\src\\optimizers\\__init__.py:309: The name tf.train.Optimizer is deprecated. Please use tf.compat.v1.train.Optimizer instead.\n",
      "\n"
     ]
    }
   ],
   "source": [
    "# Model Compilation, using mean squared error & adam optimizer\n",
    "model.compile(loss=\"mean_squared_error\", optimizer=\"adam\")"
   ]
  },
  {
   "cell_type": "code",
   "execution_count": 51,
   "metadata": {},
   "outputs": [],
   "source": [
    "from tensorflow.keras.callbacks import EarlyStopping"
   ]
  },
  {
   "cell_type": "code",
   "execution_count": 52,
   "metadata": {},
   "outputs": [],
   "source": [
    "# Defining early stopping criteria\n",
    "early_stopping = EarlyStopping(\n",
    "    monitor=\"val_loss\", patience=5, restore_best_weights=True\n",
    ")"
   ]
  },
  {
   "cell_type": "code",
   "execution_count": 53,
   "metadata": {},
   "outputs": [
    {
     "name": "stdout",
     "output_type": "stream",
     "text": [
      "Epoch 1/100\n"
     ]
    },
    {
     "name": "stdout",
     "output_type": "stream",
     "text": [
      "WARNING:tensorflow:From c:\\Users\\anike\\AppData\\Local\\Programs\\Python\\Python311\\Lib\\site-packages\\keras\\src\\utils\\tf_utils.py:492: The name tf.ragged.RaggedTensorValue is deprecated. Please use tf.compat.v1.ragged.RaggedTensorValue instead.\n",
      "\n",
      "39/39 [==============================] - 69s 1s/step - loss: 0.0022 - val_loss: 0.0767\n",
      "Epoch 2/100\n",
      "39/39 [==============================] - 42s 1s/step - loss: 4.7070e-04 - val_loss: 0.1068\n",
      "Epoch 3/100\n",
      "39/39 [==============================] - 45s 1s/step - loss: 3.8127e-04 - val_loss: 0.0912\n",
      "Epoch 4/100\n",
      "39/39 [==============================] - 43s 1s/step - loss: 3.6631e-04 - val_loss: 0.0946\n",
      "Epoch 5/100\n",
      "39/39 [==============================] - 47s 1s/step - loss: 3.2564e-04 - val_loss: 0.1416\n",
      "Epoch 6/100\n",
      "39/39 [==============================] - 45s 1s/step - loss: 3.4062e-04 - val_loss: 0.0978\n"
     ]
    },
    {
     "data": {
      "text/plain": [
       "<keras.src.callbacks.History at 0x1d419488410>"
      ]
     },
     "execution_count": 53,
     "metadata": {},
     "output_type": "execute_result"
    }
   ],
   "source": [
    "# Model Training with Early Stopping\n",
    "model.fit(\n",
    "    x_train,\n",
    "    y_train,\n",
    "    epochs=100,\n",
    "    batch_size=128,\n",
    "    verbose=1,\n",
    "    validation_data=(x_test, y_test),\n",
    "    callbacks=[early_stopping],\n",
    ")"
   ]
  },
  {
   "cell_type": "markdown",
   "metadata": {},
   "source": [
    "![Stocks Price Prediction - LSTM](images/prediction.png)"
   ]
  },
  {
   "cell_type": "code",
   "execution_count": 54,
   "metadata": {},
   "outputs": [],
   "source": [
    "x_test = np.reshape(x_test, (x_test.shape[0], x_test.shape[1], 1))"
   ]
  },
  {
   "cell_type": "code",
   "execution_count": 55,
   "metadata": {},
   "outputs": [
    {
     "name": "stdout",
     "output_type": "stream",
     "text": [
      "40/40 [==============================] - 9s 124ms/step\n"
     ]
    }
   ],
   "source": [
    "prediction = model.predict(x_test)\n",
    "prediction = scaler.inverse_transform(prediction)"
   ]
  },
  {
   "cell_type": "code",
   "execution_count": 56,
   "metadata": {},
   "outputs": [
    {
     "data": {
      "text/plain": [
       "array([[1661.7218],\n",
       "       [1659.7279],\n",
       "       [1657.8248],\n",
       "       ...,\n",
       "       [2954.921 ],\n",
       "       [2958.814 ],\n",
       "       [2963.3037]], dtype=float32)"
      ]
     },
     "execution_count": 56,
     "metadata": {},
     "output_type": "execute_result"
    }
   ],
   "source": [
    "prediction"
   ]
  },
  {
   "cell_type": "code",
   "execution_count": 57,
   "metadata": {},
   "outputs": [
    {
     "data": {
      "text/plain": [
       "(array([2963.3037], dtype=float32), array([4243.75]))"
      ]
     },
     "execution_count": 57,
     "metadata": {},
     "output_type": "execute_result"
    }
   ],
   "source": [
    "prediction[-1], actual[-1]"
   ]
  },
  {
   "cell_type": "code",
   "execution_count": 58,
   "metadata": {},
   "outputs": [
    {
     "name": "stderr",
     "output_type": "stream",
     "text": [
      "C:\\Users\\anike\\AppData\\Local\\Temp\\ipykernel_19360\\1130954356.py:3: SettingWithCopyWarning: \n",
      "A value is trying to be set on a copy of a slice from a DataFrame.\n",
      "Try using .loc[row_indexer,col_indexer] = value instead\n",
      "\n",
      "See the caveats in the documentation: https://pandas.pydata.org/pandas-docs/stable/user_guide/indexing.html#returning-a-view-versus-a-copy\n",
      "  validation[\"predictions\"] = prediction\n"
     ]
    },
    {
     "data": {
      "image/png": "[encoded data removed]",
      "text/plain": [
       "<Figure size 2000x800 with 1 Axes>"
      ]
     },
     "metadata": {},
     "output_type": "display_data"
    }
   ],
   "source": [
    "training = df[training_index:validation_index]\n",
    "validation = df[validation_index:]\n",
    "validation[\"predictions\"] = prediction\n",
    "plt.figure(figsize=(20, 8))\n",
    "plt.plot(training[\"Close\"])\n",
    "plt.plot(validation[\"Close\"], color=\"blue\", label=\"Actual Price\")\n",
    "plt.plot(validation[\"predictions\"], color=\"red\", label=\"Predicted Price\")\n",
    "plt.title(\"Stocks Price Prediction\")\n",
    "plt.legend()\n",
    "plt.show()"
   ]
  },
  {
   "cell_type": "code",
   "execution_count": 59,
   "metadata": {},
   "outputs": [
    {
     "name": "stderr",
     "output_type": "stream",
     "text": [
      "c:\\Users\\anike\\AppData\\Local\\Programs\\Python\\Python311\\Lib\\site-packages\\keras\\src\\engine\\training.py:3103: UserWarning: You are saving your model as an HDF5 file via `model.save()`. This file format is considered legacy. We recommend using instead the native Keras format, e.g. `model.save('my_model.keras')`.\n",
      "  saving_api.save_model(\n"
     ]
    }
   ],
   "source": [
    "# Assuming 'model' is your trained LSTM model\n",
    "model.save(\"lstm_stock_prediction_model.h5\")"
   ]
  },
  {
   "cell_type": "code",
   "execution_count": 79,
   "metadata": {},
   "outputs": [
    {
     "name": "stdout",
     "output_type": "stream",
     "text": [
      "5/5 [==============================] - 5s 125ms/step\n"
     ]
    },
    {
     "data": {
      "image/png": "[encoded data removed]",
      "text/plain": [
       "<Figure size 1200x600 with 1 Axes>"
      ]
     },
     "metadata": {},
     "output_type": "display_data"
    }
   ],
   "source": [
    "import warnings\n",
    "\n",
    "# Ignore all warnings\n",
    "warnings.filterwarnings(\"ignore\")\n",
    "\n",
    "import pandas as pd\n",
    "import numpy as np\n",
    "import matplotlib.pyplot as plt\n",
    "from sklearn.preprocessing import MinMaxScaler\n",
    "from tensorflow.keras.models import load_model\n",
    "from tensorflow.keras.preprocessing.sequence import pad_sequences\n",
    "\n",
    "# Load the dataset\n",
    "df = pd.read_csv(\"ABCAPITAL.csv\")\n",
    "\n",
    "# Preprocessing the dataset\n",
    "df[\"Date\"] = pd.to_datetime(df[\"Date\"], format=\"%Y-%m-%d\")\n",
    "df.index = df[\"Date\"]\n",
    "df = df[[\"Close\"]]\n",
    "df.dropna(inplace=True)\n",
    "\n",
    "# Scaling the dataset using the same scaler used for training\n",
    "data = df.values\n",
    "scaler = MinMaxScaler(feature_range=(0, 1))\n",
    "scaled_data = scaler.fit_transform(data)\n",
    "\n",
    "# Creating sequences for the dataset\n",
    "x = []\n",
    "time_steps = 90\n",
    "for i in range(time_steps, len(scaled_data)):\n",
    "    x.append(scaled_data[i - time_steps : i, 0])\n",
    "x = np.array(x)\n",
    "\n",
    "# Pad sequences to match expected length of 180\n",
    "x = pad_sequences(x, maxlen=180, dtype=\"float32\", padding=\"pre\", truncating=\"pre\")\n",
    "\n",
    "# Loading the trained LSTM model\n",
    "loaded_model = load_model(\"lstm_stock_prediction_model.h5\")\n",
    "\n",
    "# Making predictions using the loaded model\n",
    "prediction = loaded_model.predict(x)\n",
    "\n",
    "# Inverse transform the predictions to get actual stock prices\n",
    "prediction = scaler.inverse_transform(prediction)\n",
    "\n",
    "# Create a new DataFrame for validation with predicted prices\n",
    "validation = df[time_steps:].copy()\n",
    "validation[\"Predicted_Price\"] = prediction\n",
    "\n",
    "# Plotting actual vs predicted prices\n",
    "plt.figure(figsize=(12, 6))\n",
    "plt.plot(validation.index, validation[\"Close\"], label=\"Actual Price\", color=\"blue\")\n",
    "plt.plot(validation.index, prediction, label=\"Predicted Price\", color=\"red\")\n",
    "plt.title(\"Actual vs Predicted Prices\")\n",
    "plt.xlabel(\"Date\")\n",
    "plt.ylabel(\"Price\")\n",
    "plt.legend()\n",
    "plt.show()"
   ]
  },
  {
   "cell_type": "code",
   "execution_count": 80,
   "metadata": {},
   "outputs": [
    {
     "data": {
      "text/html": [
       "<div>\n",
       "<style scoped>\n",
       "    .dataframe tbody tr th:only-of-type {\n",
       "        vertical-align: middle;\n",
       "    }\n",
       "\n",
       "    .dataframe tbody tr th {\n",
       "        vertical-align: top;\n",
       "    }\n",
       "\n",
       "    .dataframe thead th {\n",
       "        text-align: right;\n",
       "    }\n",
       "</style>\n",
       "<table border=\"1\" class=\"dataframe\">\n",
       "  <thead>\n",
       "    <tr style=\"text-align: right;\">\n",
       "      <th></th>\n",
       "      <th>Actual</th>\n",
       "      <th>Predicted</th>\n",
       "    </tr>\n",
       "  </thead>\n",
       "  <tbody>\n",
       "    <tr>\n",
       "      <th>0</th>\n",
       "      <td>183.80</td>\n",
       "      <td>172.325500</td>\n",
       "    </tr>\n",
       "    <tr>\n",
       "      <th>1</th>\n",
       "      <td>188.45</td>\n",
       "      <td>172.993118</td>\n",
       "    </tr>\n",
       "    <tr>\n",
       "      <th>2</th>\n",
       "      <td>187.45</td>\n",
       "      <td>173.631195</td>\n",
       "    </tr>\n",
       "    <tr>\n",
       "      <th>3</th>\n",
       "      <td>189.10</td>\n",
       "      <td>174.231567</td>\n",
       "    </tr>\n",
       "    <tr>\n",
       "      <th>4</th>\n",
       "      <td>187.70</td>\n",
       "      <td>174.790405</td>\n",
       "    </tr>\n",
       "  </tbody>\n",
       "</table>\n",
       "</div>"
      ],
      "text/plain": [
       "   Actual   Predicted\n",
       "0  183.80  172.325500\n",
       "1  188.45  172.993118\n",
       "2  187.45  173.631195\n",
       "3  189.10  174.231567\n",
       "4  187.70  174.790405"
      ]
     },
     "execution_count": 80,
     "metadata": {},
     "output_type": "execute_result"
    }
   ],
   "source": [
    "# Creating DataFrames for validation and predictions\n",
    "df_validation_pred = pd.DataFrame(\n",
    "    {\"Actual\": validation[\"Close\"].values, \"Predicted\": prediction.flatten()}\n",
    ")\n",
    "\n",
    "# Printing the Comparison DataFrame\n",
    "df_validation_pred.head()"
   ]
  }
 ],
 "metadata": {
  "kernelspec": {
   "display_name": "Python 3",
   "language": "python",
   "name": "python3"
  },
  "language_info": {
   "codemirror_mode": {
    "name": "ipython",
    "version": 3
   },
   "file_extension": ".py",
   "mimetype": "text/x-python",
   "name": "python",
   "nbconvert_exporter": "python",
   "pygments_lexer": "ipython3",
   "version": "3.11.7"
  }
 },
 "nbformat": 4,
 "nbformat_minor": 2
}
