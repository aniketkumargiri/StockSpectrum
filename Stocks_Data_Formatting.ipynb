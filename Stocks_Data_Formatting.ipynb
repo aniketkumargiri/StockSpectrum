{
 "cells": [
  {
   "cell_type": "code",
   "execution_count": null,
   "metadata": {},
   "outputs": [],
   "source": [
    "import os"
   ]
  },
  {
   "cell_type": "code",
   "execution_count": null,
   "metadata": {},
   "outputs": [],
   "source": [
    "# Defining the folder containing CSV files\n",
    "folder_path = \".\"\n",
    "\n",
    "# Listing all CSV files in the specified folder\n",
    "csv_files = [\n",
    "    os.path.join(folder_path, file)\n",
    "    for file in os.listdir(folder_path)\n",
    "    if file.endswith(\".csv\")\n",
    "]\n",
    "\n",
    "# for csv_file in csv_files:\n",
    "#     print(csv_file)"
   ]
  },
  {
   "cell_type": "code",
   "execution_count": null,
   "metadata": {},
   "outputs": [],
   "source": [
    "import pandas as pd"
   ]
  },
  {
   "cell_type": "code",
   "execution_count": null,
   "metadata": {},
   "outputs": [],
   "source": [
    "# Iterating through each CSV file\n",
    "for file_path in csv_files:\n",
    "    # Extracting the stock symbol from the file name\n",
    "    stock_symbol = os.path.basename(file_path).split(\"-\")[2]\n",
    "\n",
    "    # Loading the CSV file\n",
    "    df = pd.read_csv(file_path)\n",
    "\n",
    "    # Converting the date column to datetime format\n",
    "    df[\"Date \"] = pd.to_datetime(df[\"Date \"])\n",
    "\n",
    "    # Converting the date format to YYYY-MM-DD\n",
    "    df[\"Date \"] = df[\"Date \"].dt.strftime(\"%Y-%m-%d\")\n",
    "\n",
    "    # Defining the column mapping\n",
    "    column_mapping = {\n",
    "        \"Date \": \"Date\",\n",
    "        \"series \": \"Series\",\n",
    "        \"OPEN \": \"Open\",\n",
    "        \"HIGH \": \"High\",\n",
    "        \"LOW \": \"Low\",\n",
    "        \"PREV. CLOSE \": \"Prev Close\",\n",
    "        \"ltp \": \"Last\",\n",
    "        \"close \": \"Close\",\n",
    "        \"vwap \": \"VWAP\",\n",
    "        \"52W H \": \"52W H\",\n",
    "        \"52W L \": \"52W L\",\n",
    "        \"VOLUME \": \"Volume\",\n",
    "        \"VALUE \": \"Turnover\",\n",
    "        \"No of trades \": \"Trades\",\n",
    "        \"Deliverable Volume\": \"Deliverable Volume\",\n",
    "        \"%Deliverble\": \"%Deliverble\",\n",
    "    }\n",
    "\n",
    "    df.rename(columns=column_mapping, inplace=True)\n",
    "\n",
    "    # Sort by date\n",
    "    df.sort_values(by='Date', inplace=True)\n",
    "\n",
    "    # Saving the modified dataframe to a new CSV file\n",
    "    output_file_name = f\"{stock_symbol}.csv\"\n",
    "\n",
    "    print(output_file_name)\n",
    "    df.to_csv(output_file_name, index=False)"
   ]
  },
  {
   "cell_type": "code",
   "execution_count": null,
   "metadata": {},
   "outputs": [],
   "source": []
  }
 ],
 "metadata": {
  "kernelspec": {
   "display_name": "Python 3",
   "language": "python",
   "name": "python3"
  },
  "language_info": {
   "codemirror_mode": {
    "name": "ipython",
    "version": 3
   },
   "file_extension": ".py",
   "mimetype": "text/x-python",
   "name": "python",
   "nbconvert_exporter": "python",
   "pygments_lexer": "ipython3",
   "version": "3.11.7"
  }
 },
 "nbformat": 4,
 "nbformat_minor": 2
}
